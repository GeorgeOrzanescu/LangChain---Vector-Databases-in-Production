{
 "cells": [
  {
   "cell_type": "code",
   "execution_count": 5,
   "metadata": {},
   "outputs": [],
   "source": [
    "from langchain import FewShotPromptTemplate, PromptTemplate, LLMChain\n",
    "from langchain_community.llms import Ollama"
   ]
  },
  {
   "cell_type": "code",
   "execution_count": 7,
   "metadata": {},
   "outputs": [
    {
     "name": "stdout",
     "output_type": "stream",
     "text": [
      "User Query: What are some tips for improving communication skills?\n",
      "AI Response: User: What are some tips for improving communication skills?\n",
      "AI: Great question! Effective communication is key to building strong relationships and achieving success in both personal and professional settings. Here are some tips that can help you improve your communication skills:\n",
      "\n",
      "1. Active listening: Pay attention to the person speaking, maintain eye contact, and ask clarifying questions to ensure you understand their message.\n",
      "2. Use clear and concise language: Avoid using jargon or complicated words that may be difficult for others to understand. Instead, use simple and straightforward language to convey your message.\n",
      "3. Be empathetic: Show understanding and compassion when communicating with others. Put yourself in their shoes and try to see things from their perspective.\n",
      "4. Ask open-ended questions: Encourage the other person to share their thoughts and feelings by asking open-ended questions that can't be answered with a simple \"yes\" or \"no.\"\n",
      "5. Be aware of nonverbal communication: Body language, facial expressions, and tone of voice can convey just as much information as spoken words. Make sure your nonverbal cues are consistent with your message.\n",
      "6. Avoid interrupting: Allow the other person to finish speaking before you respond. This shows respect and helps prevent misunderstandings.\n",
      "7. Use positive language: Frame your messages in a positive and constructive way, focusing on solutions rather than problems.\n",
      "8. Be mindful of cultural differences: Communication styles can vary across cultures. Be sensitive to these differences and adjust your approach accordingly.\n",
      "9. Practice, practice, practice: The more you practice communicating effectively, the easier it will become. Seek feedback from others on your communication style and work to improve.\n",
      "10. Stay curious and open-minded: Communication is a two-way street. Be willing to listen and learn from others, and don't be afraid to ask questions or seek clarification when needed.\n",
      "\n",
      "By following these tips, you can become a more effective communicator and build stronger relationships with those around you. Remember, communication is a skill that takes time and practice to develop, so keep working at it!\n"
     ]
    }
   ],
   "source": [
    "# Initialize LLM\n",
    "llm = Ollama(model=\"llama2\", temperature=0)\n",
    "\n",
    "examples = [\n",
    "    {\n",
    "        \"query\": \"What's the secret to happiness?\",\n",
    "        \"answer\": \"Finding balance in life and learning to enjoy the small moments.\"\n",
    "    }, {\n",
    "        \"query\": \"How can I become more productive?\",\n",
    "        \"answer\": \"Try prioritizing tasks, setting goals, and maintaining a healthy work-life balance.\"\n",
    "    }\n",
    "]\n",
    "\n",
    "example_template = \"\"\"\n",
    "User: {query}\n",
    "AI: {answer}\n",
    "\"\"\"\n",
    "\n",
    "example_prompt = PromptTemplate(\n",
    "    input_variables=[\"query\", \"answer\"],\n",
    "    template=example_template\n",
    ")\n",
    "\n",
    "prefix = \"\"\"The following are excerpts from conversations with an AI\n",
    "life coach. The assistant provides insightful and practical advice to the users' questions. Here are some\n",
    "examples: \n",
    "\"\"\"\n",
    "\n",
    "suffix = \"\"\"\n",
    "User: {query}\n",
    "AI: \"\"\"\n",
    "\n",
    "few_shot_prompt_template = FewShotPromptTemplate(\n",
    "    examples=examples,\n",
    "    example_prompt=example_prompt,\n",
    "    prefix=prefix,\n",
    "    suffix=suffix,\n",
    "    input_variables=[\"query\"],\n",
    "    example_separator=\"\\n\\n\"\n",
    ")\n",
    "\n",
    "# Create the LLMChain for the few-shot prompt template\n",
    "chain = LLMChain(llm=llm, prompt=few_shot_prompt_template)\n",
    "\n",
    "# Define the user query\n",
    "user_query = \"What are some tips for improving communication skills?\"\n",
    "\n",
    "# Run the LLMChain for the user query\n",
    "response = chain.run({\"query\": user_query})\n",
    "\n",
    "print(\"User Query:\", user_query)\n",
    "print(\"AI Response:\", response)"
   ]
  }
 ],
 "metadata": {
  "kernelspec": {
   "display_name": "langChainENV",
   "language": "python",
   "name": "python3"
  },
  "language_info": {
   "codemirror_mode": {
    "name": "ipython",
    "version": 3
   },
   "file_extension": ".py",
   "mimetype": "text/x-python",
   "name": "python",
   "nbconvert_exporter": "python",
   "pygments_lexer": "ipython3",
   "version": "3.11.7"
  }
 },
 "nbformat": 4,
 "nbformat_minor": 2
}
